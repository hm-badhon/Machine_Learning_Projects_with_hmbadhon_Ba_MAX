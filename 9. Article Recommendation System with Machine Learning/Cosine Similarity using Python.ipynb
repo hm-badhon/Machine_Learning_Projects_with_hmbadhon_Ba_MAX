{
 "cells": [
  {
   "cell_type": "code",
   "execution_count": 8,
   "id": "ecf8be62",
   "metadata": {},
   "outputs": [
    {
     "name": "stdout",
     "output_type": "stream",
     "text": [
      "[10  5 15  7  5]\n",
      "[[10  5 15  7  5]]\n",
      "[[0.94103774]]\n"
     ]
    }
   ],
   "source": [
    "import numpy as np\n",
    "import pandas as pd\n",
    "\n",
    "from sklearn.metrics.pairwise import cosine_similarity\n",
    "\n",
    "a = np.array([10,5,15,7,5])\n",
    "b = np.array([5,10,15,7,5])\n",
    "print(a)\n",
    "coa = a.reshape(1,-1)\n",
    "print(coa)\n",
    "cosine = cosine_similarity(a.reshape(1,-1), b.reshape(1,-1))\n",
    "print(cosine)"
   ]
  },
  {
   "cell_type": "markdown",
   "id": "e77a5ea4",
   "metadata": {},
   "source": [
    "So, the similarity score received between the two arrays (a and b) is 0.92 (approximately), which is close to 1. So we can say that the arrays are similar to some extent."
   ]
  },
  {
   "cell_type": "markdown",
   "id": "e12ae4f8",
   "metadata": {},
   "source": [
    "## Summary\n",
    "So we need to calculate the similarity score for finding the similarities between the two documents. In machine learning, Cosine Similarity is one of the methods to find similarities between the two documents. I hope you liked this article on the concept of finding Cosine Similarities in machine learning and its implementation using Python. Feel free to ask your valuable questions in the comments section below."
   ]
  },
  {
   "cell_type": "code",
   "execution_count": null,
   "id": "c918a9df",
   "metadata": {},
   "outputs": [],
   "source": []
  }
 ],
 "metadata": {
  "kernelspec": {
   "display_name": "Python 3 (ipykernel)",
   "language": "python",
   "name": "python3"
  },
  "language_info": {
   "codemirror_mode": {
    "name": "ipython",
    "version": 3
   },
   "file_extension": ".py",
   "mimetype": "text/x-python",
   "name": "python",
   "nbconvert_exporter": "python",
   "pygments_lexer": "ipython3",
   "version": "3.10.4"
  }
 },
 "nbformat": 4,
 "nbformat_minor": 5
}
