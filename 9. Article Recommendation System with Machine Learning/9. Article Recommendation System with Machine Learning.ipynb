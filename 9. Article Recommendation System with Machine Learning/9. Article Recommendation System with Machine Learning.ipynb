{
 "cells": [
  {
   "cell_type": "markdown",
   "id": "be579f2c",
   "metadata": {},
   "source": [
    "Article Recommendation System\n",
    "There are many ways to create recommendation systems. To create an articles recommendation system, we need to focus on content rather than user interest. For example, if a user reads an article based on clustering, all recommended articles should also be based on clustering. So to recommend articles based on the content:\n",
    "\n",
    "    we need to understand the content of the article\n",
    "\n",
    "    match the content with all the other articles\n",
    "\n",
    "    and recommend the most suitable articles for the article that the reader is already reading\n",
    "\n",
    "\n",
    "\n",
    "For this task, we can use the concept of cosine similarity in machine learning. Cosine similarity is a method of building recommendation systems based on the content. It is used to find similarities between two different pieces of text documents. So we can use cosine similarity to build an article recommendation system. In the section below, I will take you through how to build an article recommendation system with machine learning using Python."
   ]
  },
  {
   "cell_type": "markdown",
   "id": "1cc87197",
   "metadata": {},
   "source": [
    "Article Recommendation System using Python\n",
    "To create an article recommendation system, I collected data about some of the articles on this website itself. So let’s import the necessary Python libraries and the dataset we need to create an articles recommendation system:\n"
   ]
  },
  {
   "cell_type": "code",
   "execution_count": 1,
   "id": "3dc9ac45",
   "metadata": {},
   "outputs": [
    {
     "data": {
      "text/html": [
       "<div>\n",
       "<style scoped>\n",
       "    .dataframe tbody tr th:only-of-type {\n",
       "        vertical-align: middle;\n",
       "    }\n",
       "\n",
       "    .dataframe tbody tr th {\n",
       "        vertical-align: top;\n",
       "    }\n",
       "\n",
       "    .dataframe thead th {\n",
       "        text-align: right;\n",
       "    }\n",
       "</style>\n",
       "<table border=\"1\" class=\"dataframe\">\n",
       "  <thead>\n",
       "    <tr style=\"text-align: right;\">\n",
       "      <th></th>\n",
       "      <th>Article</th>\n",
       "      <th>Title</th>\n",
       "    </tr>\n",
       "  </thead>\n",
       "  <tbody>\n",
       "    <tr>\n",
       "      <th>0</th>\n",
       "      <td>Data analysis is the process of inspecting and...</td>\n",
       "      <td>Best Books to Learn Data Analysis</td>\n",
       "    </tr>\n",
       "    <tr>\n",
       "      <th>1</th>\n",
       "      <td>The performance of a machine learning algorith...</td>\n",
       "      <td>Assumptions of Machine Learning Algorithms</td>\n",
       "    </tr>\n",
       "    <tr>\n",
       "      <th>2</th>\n",
       "      <td>You must have seen the news divided into categ...</td>\n",
       "      <td>News Classification with Machine Learning</td>\n",
       "    </tr>\n",
       "    <tr>\n",
       "      <th>3</th>\n",
       "      <td>When there are only two classes in a classific...</td>\n",
       "      <td>Multiclass Classification Algorithms in Machin...</td>\n",
       "    </tr>\n",
       "    <tr>\n",
       "      <th>4</th>\n",
       "      <td>The Multinomial Naive Bayes is one of the vari...</td>\n",
       "      <td>Multinomial Naive Bayes in Machine Learning</td>\n",
       "    </tr>\n",
       "  </tbody>\n",
       "</table>\n",
       "</div>"
      ],
      "text/plain": [
       "                                             Article  \\\n",
       "0  Data analysis is the process of inspecting and...   \n",
       "1  The performance of a machine learning algorith...   \n",
       "2  You must have seen the news divided into categ...   \n",
       "3  When there are only two classes in a classific...   \n",
       "4  The Multinomial Naive Bayes is one of the vari...   \n",
       "\n",
       "                                               Title  \n",
       "0                  Best Books to Learn Data Analysis  \n",
       "1         Assumptions of Machine Learning Algorithms  \n",
       "2          News Classification with Machine Learning  \n",
       "3  Multiclass Classification Algorithms in Machin...  \n",
       "4        Multinomial Naive Bayes in Machine Learning  "
      ]
     },
     "execution_count": 1,
     "metadata": {},
     "output_type": "execute_result"
    }
   ],
   "source": [
    "import pandas as pd\n",
    "import numpy as mp\n",
    "from sklearn.feature_extraction import text\n",
    "from sklearn.metrics.pairwise import cosine_similarity\n",
    "\n",
    "data = pd.read_csv(\"https://raw.githubusercontent.com/amankharwal/Website-data/master/articles.csv\", encoding='latin1')\n",
    "data.head()"
   ]
  },
  {
   "cell_type": "markdown",
   "id": "49a6160f",
   "metadata": {},
   "source": [
    "This dataset is completely ready to use to create a recommender system, \n",
    "#### so let’s use the cosine similarity algorithm and write a Python function to recommend articles:"
   ]
  },
  {
   "cell_type": "code",
   "execution_count": 5,
   "id": "5f535fbf",
   "metadata": {},
   "outputs": [
    {
     "data": {
      "text/html": [
       "<div>\n",
       "<style scoped>\n",
       "    .dataframe tbody tr th:only-of-type {\n",
       "        vertical-align: middle;\n",
       "    }\n",
       "\n",
       "    .dataframe tbody tr th {\n",
       "        vertical-align: top;\n",
       "    }\n",
       "\n",
       "    .dataframe thead th {\n",
       "        text-align: right;\n",
       "    }\n",
       "</style>\n",
       "<table border=\"1\" class=\"dataframe\">\n",
       "  <thead>\n",
       "    <tr style=\"text-align: right;\">\n",
       "      <th></th>\n",
       "      <th>Article</th>\n",
       "      <th>Title</th>\n",
       "      <th>Recommended Articles</th>\n",
       "    </tr>\n",
       "  </thead>\n",
       "  <tbody>\n",
       "    <tr>\n",
       "      <th>0</th>\n",
       "      <td>Data analysis is the process of inspecting and...</td>\n",
       "      <td>Best Books to Learn Data Analysis</td>\n",
       "      <td>Best Books to Learn Computer Vision ,Best Book...</td>\n",
       "    </tr>\n",
       "    <tr>\n",
       "      <th>1</th>\n",
       "      <td>The performance of a machine learning algorith...</td>\n",
       "      <td>Assumptions of Machine Learning Algorithms</td>\n",
       "      <td>Best Books to Learn Deep Learning ,Naive Bayes...</td>\n",
       "    </tr>\n",
       "    <tr>\n",
       "      <th>2</th>\n",
       "      <td>You must have seen the news divided into categ...</td>\n",
       "      <td>News Classification with Machine Learning</td>\n",
       "      <td>Apple Stock Price Prediction with Machine Lear...</td>\n",
       "    </tr>\n",
       "    <tr>\n",
       "      <th>3</th>\n",
       "      <td>When there are only two classes in a classific...</td>\n",
       "      <td>Multiclass Classification Algorithms in Machin...</td>\n",
       "      <td>Best Books to Learn Deep Learning ,Use Cases o...</td>\n",
       "    </tr>\n",
       "    <tr>\n",
       "      <th>4</th>\n",
       "      <td>The Multinomial Naive Bayes is one of the vari...</td>\n",
       "      <td>Multinomial Naive Bayes in Machine Learning</td>\n",
       "      <td>Mean Shift Clustering in Machine Learning ,Lan...</td>\n",
       "    </tr>\n",
       "  </tbody>\n",
       "</table>\n",
       "</div>"
      ],
      "text/plain": [
       "                                             Article  \\\n",
       "0  Data analysis is the process of inspecting and...   \n",
       "1  The performance of a machine learning algorith...   \n",
       "2  You must have seen the news divided into categ...   \n",
       "3  When there are only two classes in a classific...   \n",
       "4  The Multinomial Naive Bayes is one of the vari...   \n",
       "\n",
       "                                               Title  \\\n",
       "0                  Best Books to Learn Data Analysis   \n",
       "1         Assumptions of Machine Learning Algorithms   \n",
       "2          News Classification with Machine Learning   \n",
       "3  Multiclass Classification Algorithms in Machin...   \n",
       "4        Multinomial Naive Bayes in Machine Learning   \n",
       "\n",
       "                                Recommended Articles  \n",
       "0  Best Books to Learn Computer Vision ,Best Book...  \n",
       "1  Best Books to Learn Deep Learning ,Naive Bayes...  \n",
       "2  Apple Stock Price Prediction with Machine Lear...  \n",
       "3  Best Books to Learn Deep Learning ,Use Cases o...  \n",
       "4  Mean Shift Clustering in Machine Learning ,Lan...  "
      ]
     },
     "execution_count": 5,
     "metadata": {},
     "output_type": "execute_result"
    }
   ],
   "source": [
    "articles =data[\"Article\"].tolist()\n",
    "uni_tfidf = text.TfidfVectorizer(input=articles, stop_words=\"english\")\n",
    "uni_matrix = uni_tfidf.fit_transform(articles)\n",
    "uni_sim = cosine_similarity(uni_matrix)\n",
    "\n",
    "def recommend_articles(x):\n",
    "    return \" ,\".join(data[\"Title\"].loc[x.argsort()[-4:-1]])\n",
    "data[\"Recommended Articles\"] = [recommend_articles(x) for x in uni_sim]\n",
    "data.head()"
   ]
  },
  {
   "cell_type": "code",
   "execution_count": 6,
   "id": "1918c020",
   "metadata": {},
   "outputs": [
    {
     "name": "stdout",
     "output_type": "stream",
     "text": [
      "Best Books to Learn Computer Vision ,Best Books to Learn Deep Learning ,Best Resources to Learn Python\n"
     ]
    }
   ],
   "source": [
    "print(data[\"Recommended Articles\"][0])"
   ]
  },
  {
   "cell_type": "code",
   "execution_count": null,
   "id": "5d9092e4",
   "metadata": {},
   "outputs": [],
   "source": []
  },
  {
   "cell_type": "code",
   "execution_count": null,
   "id": "4f41f5cd",
   "metadata": {},
   "outputs": [],
   "source": []
  },
  {
   "cell_type": "code",
   "execution_count": null,
   "id": "1a87e23a",
   "metadata": {},
   "outputs": [],
   "source": []
  },
  {
   "cell_type": "code",
   "execution_count": null,
   "id": "94e0fb36",
   "metadata": {},
   "outputs": [],
   "source": []
  },
  {
   "cell_type": "code",
   "execution_count": null,
   "id": "a12132b5",
   "metadata": {},
   "outputs": [],
   "source": []
  }
 ],
 "metadata": {
  "kernelspec": {
   "display_name": "Python 3 (ipykernel)",
   "language": "python",
   "name": "python3"
  },
  "language_info": {
   "codemirror_mode": {
    "name": "ipython",
    "version": 3
   },
   "file_extension": ".py",
   "mimetype": "text/x-python",
   "name": "python",
   "nbconvert_exporter": "python",
   "pygments_lexer": "ipython3",
   "version": "3.10.4"
  }
 },
 "nbformat": 4,
 "nbformat_minor": 5
}
