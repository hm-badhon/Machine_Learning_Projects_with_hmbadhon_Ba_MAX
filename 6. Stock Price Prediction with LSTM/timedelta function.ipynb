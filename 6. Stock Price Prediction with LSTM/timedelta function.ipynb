{
 "cells": [
  {
   "cell_type": "code",
   "execution_count": null,
   "id": "c2501d5b",
   "metadata": {},
   "outputs": [],
   "source": [
    "# Timedelta function demonstration\n",
    "from datetime import datetime, timedelta\n",
    "# Using current time\n",
    "ini_time_for_now = datetime.now()\n",
    "\n",
    "# printing initial_date\n",
    "print (\"initial_date\", str(ini_time_for_now))\n",
    "\n",
    "# Some another datetime\n",
    "new_final_time = ini_time_for_now + \\\n",
    "\t\t\t\ttimedelta(days = 2)\n",
    "\n",
    "# printing new final_date\n",
    "print (\"new_final_time\", str(new_final_time))\n",
    "\n",
    "\n",
    "# printing calculated past_dates\n",
    "print('Time difference:', str(new_final_time - \\\n",
    "\t\t\t\t\t\t\tini_time_for_now))\n"
   ]
  },
  {
   "cell_type": "code",
   "execution_count": 3,
   "id": "f6f254d7",
   "metadata": {},
   "outputs": [
    {
     "name": "stdout",
     "output_type": "stream",
     "text": [
      "Initial date :  2023-03-06 11:44:39.935667\n",
      "new_final_time : 2024-03-05 11:44:39.935667\n",
      "Time differece :  365 days, 0:00:00\n"
     ]
    }
   ],
   "source": [
    "from datetime import datetime, timedelta\n",
    "# Using current time\n",
    "initial_time_for_now = datetime.now()\n",
    "\n",
    "# print initial time for now\n",
    "print(\"Initial date : \",str(initial_time_for_now))\n",
    "\n",
    "# SOmem another date time\n",
    "new_final_time = initial_time_for_now +timedelta(365)\n",
    "\n",
    "# printing new date time\n",
    "print(\"new_final_time :\",str(new_final_time))\n",
    "\n",
    "\n",
    "print('Time differece : ',str(new_final_time-initial_time_for_now))"
   ]
  },
  {
   "cell_type": "code",
   "execution_count": null,
   "id": "27925286",
   "metadata": {},
   "outputs": [],
   "source": []
  },
  {
   "cell_type": "code",
   "execution_count": null,
   "id": "6709d048",
   "metadata": {},
   "outputs": [],
   "source": []
  },
  {
   "cell_type": "code",
   "execution_count": null,
   "id": "2e03a818",
   "metadata": {},
   "outputs": [],
   "source": []
  },
  {
   "cell_type": "code",
   "execution_count": null,
   "id": "7db1764a",
   "metadata": {},
   "outputs": [],
   "source": []
  },
  {
   "cell_type": "code",
   "execution_count": null,
   "id": "2fd4dfcb",
   "metadata": {},
   "outputs": [],
   "source": []
  },
  {
   "cell_type": "code",
   "execution_count": null,
   "id": "d15c1fad",
   "metadata": {},
   "outputs": [],
   "source": []
  }
 ],
 "metadata": {
  "kernelspec": {
   "display_name": "Python 3 (ipykernel)",
   "language": "python",
   "name": "python3"
  },
  "language_info": {
   "codemirror_mode": {
    "name": "ipython",
    "version": 3
   },
   "file_extension": ".py",
   "mimetype": "text/x-python",
   "name": "python",
   "nbconvert_exporter": "python",
   "pygments_lexer": "ipython3",
   "version": "3.10.4"
  }
 },
 "nbformat": 4,
 "nbformat_minor": 5
}
