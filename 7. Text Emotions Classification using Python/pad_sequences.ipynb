{
 "cells": [
  {
   "cell_type": "code",
   "execution_count": 6,
   "id": "fb05d29b",
   "metadata": {},
   "outputs": [
    {
     "name": "stdout",
     "output_type": "stream",
     "text": [
      "[[0 0 1]\n",
      " [0 2 3]\n",
      " [4 5 6]]\n",
      "[[-1 -1  1]\n",
      " [-1  2  3]\n",
      " [ 4  5  6]]\n",
      "[[1 0 0]\n",
      " [2 3 0]\n",
      " [4 5 6]]\n",
      "[[0 1]\n",
      " [2 3]\n",
      " [5 6]]\n"
     ]
    }
   ],
   "source": [
    "import tensorflow as tf\n",
    "import keras_preprocessing \n",
    "sequence = [[1], [2, 3], [4, 5, 6]]\n",
    "seq1 = tf.keras.preprocessing.sequence.pad_sequences(sequence)\n",
    "print(seq1)\n",
    "seq2 =tf.keras.preprocessing.sequence.pad_sequences(sequence, value=-1)\n",
    "print(seq2)\n",
    "\n",
    "seq3 =tf.keras.preprocessing.sequence.pad_sequences(sequence, padding='post')\n",
    "print(seq3)\n",
    "\n",
    "seq4 =tf.keras.preprocessing.sequence.pad_sequences(sequence, maxlen=2)\n",
    "print(seq4)\n"
   ]
  },
  {
   "cell_type": "markdown",
   "id": "d693e000",
   "metadata": {},
   "source": [
    "Now I’ll use the label encoder method to convert the classes from strings to a numerical representation"
   ]
  }
 ],
 "metadata": {
  "kernelspec": {
   "display_name": "Python 3 (ipykernel)",
   "language": "python",
   "name": "python3"
  },
  "language_info": {
   "codemirror_mode": {
    "name": "ipython",
    "version": 3
   },
   "file_extension": ".py",
   "mimetype": "text/x-python",
   "name": "python",
   "nbconvert_exporter": "python",
   "pygments_lexer": "ipython3",
   "version": "3.10.4"
  }
 },
 "nbformat": 4,
 "nbformat_minor": 5
}
