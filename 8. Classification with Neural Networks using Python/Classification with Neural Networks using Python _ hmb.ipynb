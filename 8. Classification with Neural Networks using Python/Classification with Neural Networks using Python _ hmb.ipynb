{
 "cells": [
  {
   "cell_type": "markdown",
   "id": "e2ef9720",
   "metadata": {},
   "source": [
    "Classification with Neural Networks using Python\n",
    "Classification is the task of categorizing the known classes based on their features. In most classification problems, machine learning algorithms will do the job, but while classifying a large dataset of images, you will need to use a neural network. If you have never trained a neural network and want to learn how neural networks work, you can learn everything about a neural network from here.\n",
    "\n",
    "Now let’s come back to classification with neural networks. In this section, I will take you through the task of image classification with neural network using Python. Here, I will be using the famous MNIST fashion dataset, which contains 70,000 clothing fashion images. Here our task is to train an image classification model with neural networks.\n",
    "\n",
    "I will start this task by importing the necessary Python libraries and the dataset:"
   ]
  },
  {
   "cell_type": "code",
   "execution_count": 18,
   "id": "32b77ef5",
   "metadata": {},
   "outputs": [],
   "source": [
    "import tensorflow as tf\n",
    "from tensorflow import keras\n",
    "import numpy as np\n",
    "import matplotlib.pyplot as plt\n",
    "fashion = keras.datasets.fashion_mnist\n",
    "(xtrain, ytrain), (xtest, ytest) = fashion.load_data()"
   ]
  },
  {
   "cell_type": "code",
   "execution_count": 19,
   "id": "d55a0616",
   "metadata": {},
   "outputs": [
    {
     "name": "stdout",
     "output_type": "stream",
     "text": [
      "Image Label :  5\n"
     ]
    },
    {
     "data": {
      "text/plain": [
       "<matplotlib.image.AxesImage at 0x7f9a706adcf0>"
      ]
     },
     "execution_count": 19,
     "metadata": {},
     "output_type": "execute_result"
    },
    {
     "data": {
      "image/png": "[encoded data removed]",
      "text/plain": [
       "<Figure size 640x480 with 1 Axes>"
      ]
     },
     "metadata": {},
     "output_type": "display_data"
    }
   ],
   "source": [
    "imgIndex = 9\n",
    "image = xtrain[imgIndex]\n",
    "print(\"Image Label : \", ytrain[imgIndex])\n",
    "plt.imshow(image)"
   ]
  },
  {
   "cell_type": "code",
   "execution_count": 20,
   "id": "a16682e4",
   "metadata": {},
   "outputs": [
    {
     "name": "stdout",
     "output_type": "stream",
     "text": [
      "(60000, 28, 28)\n",
      "(10000, 28, 28)\n"
     ]
    }
   ],
   "source": [
    "#Now let’s have a look at the shape of both the training and test data:\n",
    "\n",
    "\n",
    "print(xtrain.shape)\n",
    "\n",
    "print(xtest.shape)\n"
   ]
  },
  {
   "cell_type": "markdown",
   "id": "88fcc47c",
   "metadata": {},
   "source": [
    "# Building a Neural Network Architecture\n",
    "### Now I will build a neural network architecture with two hidden layers:"
   ]
  },
  {
   "cell_type": "code",
   "execution_count": 21,
   "id": "fdd34616",
   "metadata": {},
   "outputs": [
    {
     "name": "stdout",
     "output_type": "stream",
     "text": [
      "Model: \"sequential_1\"\n",
      "_________________________________________________________________\n",
      " Layer (type)                Output Shape              Param #   \n",
      "=================================================================\n",
      " flatten_1 (Flatten)         (None, 784)               0         \n",
      "                                                                 \n",
      " dense_3 (Dense)             (None, 300)               235500    \n",
      "                                                                 \n",
      " dense_4 (Dense)             (None, 100)               30100     \n",
      "                                                                 \n",
      " dense_5 (Dense)             (None, 10)                1010      \n",
      "                                                                 \n",
      "=================================================================\n",
      "Total params: 266,610\n",
      "Trainable params: 266,610\n",
      "Non-trainable params: 0\n",
      "_________________________________________________________________\n",
      "None\n"
     ]
    }
   ],
   "source": [
    "model = keras.models.Sequential([\n",
    "    keras.layers.Flatten(input_shape=[28,28]),\n",
    "    keras.layers.Dense(300,activation= \"relu\"),\n",
    "    keras.layers.Dense(100,activation= \"relu\"),\n",
    "    keras.layers.Dense(10,activation= \"relu\"),    \n",
    "])\n",
    "print(model.summary())"
   ]
  },
  {
   "cell_type": "code",
   "execution_count": 22,
   "id": "1ddd561e",
   "metadata": {},
   "outputs": [],
   "source": [
    "xvalid , xtrain = xtrain[:5000]/255.0,xtrain[5000:]/255.0\n",
    "\n",
    "yvalid , ytrain = ytrain[:5000], ytrain[5000:]"
   ]
  },
  {
   "cell_type": "code",
   "execution_count": 23,
   "id": "9021ed6d",
   "metadata": {},
   "outputs": [
    {
     "name": "stdout",
     "output_type": "stream",
     "text": [
      "Epoch 1/30\n",
      "1719/1719 [==============================] - 2s 1ms/step - loss: 8.5460 - accuracy: 0.1042 - val_loss: 8.3873 - val_accuracy: 0.0976\n",
      "Epoch 2/30\n",
      "1719/1719 [==============================] - 2s 1ms/step - loss: 8.2255 - accuracy: 0.1002 - val_loss: 8.3873 - val_accuracy: 0.0976\n",
      "Epoch 3/30\n",
      "1719/1719 [==============================] - 2s 1ms/step - loss: 8.2255 - accuracy: 0.1002 - val_loss: 8.3873 - val_accuracy: 0.0976\n",
      "Epoch 4/30\n",
      "1719/1719 [==============================] - 2s 1ms/step - loss: 8.2255 - accuracy: 0.1002 - val_loss: 8.3873 - val_accuracy: 0.0976\n",
      "Epoch 5/30\n",
      "1719/1719 [==============================] - 2s 1ms/step - loss: 8.2255 - accuracy: 0.1002 - val_loss: 8.3873 - val_accuracy: 0.0976\n",
      "Epoch 6/30\n",
      "1719/1719 [==============================] - 2s 1ms/step - loss: 8.2255 - accuracy: 0.1002 - val_loss: 8.3873 - val_accuracy: 0.0976\n",
      "Epoch 7/30\n",
      "1719/1719 [==============================] - 2s 1ms/step - loss: 8.2255 - accuracy: 0.1002 - val_loss: 8.3873 - val_accuracy: 0.0976\n",
      "Epoch 8/30\n",
      "1719/1719 [==============================] - 2s 1ms/step - loss: 8.2255 - accuracy: 0.1002 - val_loss: 8.3873 - val_accuracy: 0.0976\n",
      "Epoch 9/30\n",
      "1719/1719 [==============================] - 2s 1ms/step - loss: 8.2255 - accuracy: 0.1002 - val_loss: 8.3873 - val_accuracy: 0.0976\n",
      "Epoch 10/30\n",
      "1719/1719 [==============================] - 2s 1ms/step - loss: 8.2255 - accuracy: 0.1002 - val_loss: 8.3873 - val_accuracy: 0.0976\n",
      "Epoch 11/30\n",
      "1719/1719 [==============================] - 2s 1ms/step - loss: 8.2255 - accuracy: 0.1002 - val_loss: 8.3873 - val_accuracy: 0.0976\n",
      "Epoch 12/30\n",
      "1719/1719 [==============================] - 2s 1ms/step - loss: 8.2255 - accuracy: 0.1002 - val_loss: 8.3873 - val_accuracy: 0.0976\n",
      "Epoch 13/30\n",
      "1719/1719 [==============================] - 2s 1ms/step - loss: 8.2255 - accuracy: 0.1002 - val_loss: 8.3873 - val_accuracy: 0.0976\n",
      "Epoch 14/30\n",
      "1719/1719 [==============================] - 2s 1ms/step - loss: 8.2255 - accuracy: 0.1002 - val_loss: 8.3873 - val_accuracy: 0.0976\n",
      "Epoch 15/30\n",
      "1719/1719 [==============================] - 2s 1ms/step - loss: 8.2255 - accuracy: 0.1002 - val_loss: 8.3873 - val_accuracy: 0.0976\n",
      "Epoch 16/30\n",
      "1719/1719 [==============================] - 2s 1ms/step - loss: 8.2255 - accuracy: 0.1002 - val_loss: 8.3873 - val_accuracy: 0.0976\n",
      "Epoch 17/30\n",
      "1719/1719 [==============================] - 2s 1ms/step - loss: 8.2255 - accuracy: 0.1002 - val_loss: 8.3873 - val_accuracy: 0.0976\n",
      "Epoch 18/30\n",
      "1719/1719 [==============================] - 2s 1ms/step - loss: 8.2255 - accuracy: 0.1002 - val_loss: 8.3873 - val_accuracy: 0.0976\n",
      "Epoch 19/30\n",
      "1719/1719 [==============================] - 2s 1ms/step - loss: 8.2255 - accuracy: 0.1002 - val_loss: 8.3873 - val_accuracy: 0.0976\n",
      "Epoch 20/30\n",
      "1719/1719 [==============================] - 2s 1ms/step - loss: 8.2255 - accuracy: 0.1002 - val_loss: 8.3873 - val_accuracy: 0.0976\n",
      "Epoch 21/30\n",
      "1719/1719 [==============================] - 2s 1ms/step - loss: 8.2255 - accuracy: 0.1002 - val_loss: 8.3873 - val_accuracy: 0.0976\n",
      "Epoch 22/30\n",
      "1719/1719 [==============================] - 2s 1ms/step - loss: 8.2255 - accuracy: 0.1002 - val_loss: 8.3873 - val_accuracy: 0.0976\n",
      "Epoch 23/30\n",
      "1719/1719 [==============================] - 2s 1ms/step - loss: 8.2255 - accuracy: 0.1002 - val_loss: 8.3873 - val_accuracy: 0.0976\n",
      "Epoch 24/30\n",
      "1719/1719 [==============================] - 2s 1ms/step - loss: 8.2255 - accuracy: 0.1002 - val_loss: 8.3873 - val_accuracy: 0.0976\n",
      "Epoch 25/30\n",
      "1719/1719 [==============================] - 2s 1ms/step - loss: 8.2255 - accuracy: 0.1002 - val_loss: 8.3873 - val_accuracy: 0.0976\n",
      "Epoch 26/30\n",
      "1719/1719 [==============================] - 2s 1ms/step - loss: 8.2255 - accuracy: 0.1002 - val_loss: 8.3873 - val_accuracy: 0.0976\n",
      "Epoch 27/30\n",
      "1719/1719 [==============================] - 2s 1ms/step - loss: 8.2255 - accuracy: 0.1002 - val_loss: 8.3873 - val_accuracy: 0.0976\n",
      "Epoch 28/30\n",
      "1719/1719 [==============================] - 2s 1ms/step - loss: 8.2255 - accuracy: 0.1002 - val_loss: 8.3873 - val_accuracy: 0.0976\n",
      "Epoch 29/30\n",
      "1719/1719 [==============================] - 2s 1ms/step - loss: 8.2255 - accuracy: 0.1002 - val_loss: 8.3873 - val_accuracy: 0.0976\n",
      "Epoch 30/30\n",
      "1719/1719 [==============================] - 2s 1ms/step - loss: 8.2255 - accuracy: 0.1002 - val_loss: 8.3873 - val_accuracy: 0.0976\n"
     ]
    }
   ],
   "source": [
    "# Training a Classification Model with Neural Networks\n",
    "# Now here’s how we can train a neural network for the task of image classification:\n",
    "\n",
    "model.compile(loss = \"sparse_categorical_crossentropy\",optimizer = \"sgd\",metrics =[\"accuracy\"])\n",
    "history = model.fit(xtrain, ytrain, epochs = 30,\n",
    "                   validation_data = (xvalid, yvalid))\n"
   ]
  },
  {
   "cell_type": "code",
   "execution_count": 24,
   "id": "07cc44c0",
   "metadata": {},
   "outputs": [
    {
     "name": "stdout",
     "output_type": "stream",
     "text": [
      "1/1 [==============================] - 0s 40ms/step\n",
      "[[ 2383.7275     0.         0.      4211.0474  5238.518      0.\n",
      "      0.      1342.3668  2399.8079  2076.7097]\n",
      " [ 6298.4795     0.         0.     12056.842  14273.259      0.\n",
      "      0.      3716.6414  5395.6255  4643.9736]\n",
      " [ 3773.782      0.         0.      7488.8896  8715.424      0.\n",
      "      0.      2310.1091  3080.0115  2740.333 ]\n",
      " [ 2405.0325     0.         0.      4804.1406  5554.076      0.\n",
      "      0.      1518.7294  1981.5848  1771.1536]\n",
      " [ 3839.7998     0.         0.      7299.6523  8665.454      0.\n",
      "      0.      2301.451   3297.8347  2824.0513]]\n"
     ]
    }
   ],
   "source": [
    "new = xtest[:5]\n",
    "predictions = model.predict(new)\n",
    "print(predictions)"
   ]
  },
  {
   "cell_type": "code",
   "execution_count": 26,
   "id": "cc20ad8e",
   "metadata": {},
   "outputs": [
    {
     "name": "stdout",
     "output_type": "stream",
     "text": [
      "[4 4 4 4 4]\n"
     ]
    }
   ],
   "source": [
    "# Here is how we can look at the predicted classes:\n",
    "\n",
    "classes = np.argmax(predictions, axis=1)\n",
    "print(classes)\n"
   ]
  },
  {
   "cell_type": "markdown",
   "id": "ee737468",
   "metadata": {},
   "source": [
    "# Summary\n",
    "\n",
    "Classification is the task of categorizing the known classes based on their features. In most classification problems, machine learning algorithms will do the job, but while classifying a large dataset of images, you will need to use a neural network. I hope you liked this article on classification with neural network using Python. Feel free to ask valuable questions in the comments section below."
   ]
  },
  {
   "cell_type": "code",
   "execution_count": null,
   "id": "2bb11d05",
   "metadata": {},
   "outputs": [],
   "source": []
  },
  {
   "cell_type": "code",
   "execution_count": null,
   "id": "b0a0ae71",
   "metadata": {},
   "outputs": [],
   "source": []
  }
 ],
 "metadata": {
  "kernelspec": {
   "display_name": "Python 3 (ipykernel)",
   "language": "python",
   "name": "python3"
  },
  "language_info": {
   "codemirror_mode": {
    "name": "ipython",
    "version": 3
   },
   "file_extension": ".py",
   "mimetype": "text/x-python",
   "name": "python",
   "nbconvert_exporter": "python",
   "pygments_lexer": "ipython3",
   "version": "3.10.4"
  }
 },
 "nbformat": 4,
 "nbformat_minor": 5
}
